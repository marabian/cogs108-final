{
 "cells": [
  {
   "cell_type": "markdown",
   "metadata": {},
   "source": [
    "# COGS 108 - Final Project "
   ]
  },
  {
   "cell_type": "markdown",
   "metadata": {},
   "source": [
    "# Overview"
   ]
  },
  {
   "cell_type": "markdown",
   "metadata": {},
   "source": [
    "The goal of this project is to use a dataset provided by Yelp, which contains information on restaurant ratings, review counts, ZIP codes, and average price, to predict a given restaurant's Yelp score. The predicted yelp score will be determined using the previous factors, specifically the positive reviews, the greater amount of review counts, all with using the location of the restaurant with the zip codes provided in the data set."
   ]
  },
  {
   "cell_type": "markdown",
   "metadata": {},
   "source": [
    "# Name & GitHub\n",
    "\n",
    "- Name: Mher Arabian\n",
    "- GitHub Username: marabian"
   ]
  },
  {
   "cell_type": "markdown",
   "metadata": {},
   "source": [
    "# Research Question"
   ]
  },
  {
   "cell_type": "markdown",
   "metadata": {},
   "source": [
    "How well does a restaurant's review count, ZIP code, and average price, predict a restaurant's Yelp score?"
   ]
  },
  {
   "cell_type": "markdown",
   "metadata": {},
   "source": [
    
   ]
  },
  {
   "cell_type": "markdown",
   "metadata": {},
   "source": [
    "\n",
    "References (include links):\n",
    "- 1) https://cseweb.ucsd.edu/classes/wi15/cse255-a/reports/wi15/Wa'el_Farhan.pdf\n",
    "- 2) https://pdfs.semanticscholar.org/43c5/6af59062ac41031ef80b5853cc323a20be26.pdf"
   ]
  },
  {
   "cell_type": "markdown",
   "metadata": {},
   "source": [
    "# Hypothesis\n"
   ]
  },
  {
   "cell_type": "markdown",
   "metadata": {},
   "source": [
    "Given a restaurant's review count, ZIP code, and average price, we can accurately predict its Yelp score."
   ]
  },
  {
   "cell_type": "markdown",
   "metadata": {},
   "source": [
    "# Dataset(s)"
   ]
  },
  {
   "cell_type": "markdown",
   "metadata": {},
   "source": [
    "\n",
    "- Dataset Name: yelp.csv\n",
    "- Link to the dataset: provided as part of assignment\n",
    "- Number of observations: 3688\n",
    "\n",
    "This is a dataset of Yelp restaurant reviews, containing restaurant names, address, ratings, review counts, ZIP codes, average price, and cuisine they serve, among other features. "
   ]
  },
  {
   "cell_type": "markdown",
   "metadata": {},
   "source": [
    "# Setup"
   ]
  },
  {
   "cell_type": "code",
   "execution_count": 66,
   "metadata": {},
   "outputs": [],
   "source": [
    "import numpy as np\n",
    "import pandas as pd\n",
    "import matplotlib.pyplot as plt\n",
    "import seaborn as sns\n",
    "import statsmodels.api as sm"
   ]
  },
  {
   "cell_type": "markdown",
   "metadata": {},
   "source": [
    "# Data Cleaning"
   ]
  },
  {
   "cell_type": "code",
   "execution_count": 67,
   "metadata": {},
   "outputs": [
    {
     "name": "stdout",
     "output_type": "stream",
     "text": [
      "(2891, 25)\n"
     ]
    },
    {
     "data": {
      "text/html": [
       "<div>\n",
       "<style scoped>\n",
       "    .dataframe tbody tr th:only-of-type {\n",
       "        vertical-align: middle;\n",
       "    }\n",
       "\n",
       "    .dataframe tbody tr th {\n",
       "        vertical-align: top;\n",
       "    }\n",
       "\n",
       "    .dataframe thead th {\n",
       "        text-align: right;\n",
       "    }\n",
       "</style>\n",
       "<table border=\"1\" class=\"dataframe\">\n",
       "  <thead>\n",
       "    <tr style=\"text-align: right;\">\n",
       "      <th></th>\n",
       "      <th>id</th>\n",
       "      <th>rating</th>\n",
       "      <th>review_count</th>\n",
       "      <th>zip_code</th>\n",
       "      <th>price</th>\n",
       "      <th>hotdogs</th>\n",
       "      <th>sandwiches</th>\n",
       "      <th>pizza</th>\n",
       "      <th>tradamerican</th>\n",
       "      <th>burgers</th>\n",
       "      <th>...</th>\n",
       "      <th>italian</th>\n",
       "      <th>newamerican</th>\n",
       "      <th>chicken_wings</th>\n",
       "      <th>delis</th>\n",
       "      <th>bars</th>\n",
       "      <th>salad</th>\n",
       "      <th>seafood</th>\n",
       "      <th>bbq</th>\n",
       "      <th>bakeries</th>\n",
       "      <th>sushi</th>\n",
       "    </tr>\n",
       "  </thead>\n",
       "  <tbody>\n",
       "    <tr>\n",
       "      <th>0</th>\n",
       "      <td>luciano-pizzeria-ristorante-northwest-raleigh</td>\n",
       "      <td>5.0</td>\n",
       "      <td>2</td>\n",
       "      <td>27612</td>\n",
       "      <td>$</td>\n",
       "      <td>False</td>\n",
       "      <td>False</td>\n",
       "      <td>False</td>\n",
       "      <td>False</td>\n",
       "      <td>False</td>\n",
       "      <td>...</td>\n",
       "      <td>True</td>\n",
       "      <td>False</td>\n",
       "      <td>False</td>\n",
       "      <td>False</td>\n",
       "      <td>False</td>\n",
       "      <td>False</td>\n",
       "      <td>False</td>\n",
       "      <td>False</td>\n",
       "      <td>False</td>\n",
       "      <td>False</td>\n",
       "    </tr>\n",
       "    <tr>\n",
       "      <th>1</th>\n",
       "      <td>olive-garden-italian-restaurant-wilson</td>\n",
       "      <td>3.0</td>\n",
       "      <td>16</td>\n",
       "      <td>27893</td>\n",
       "      <td>$$</td>\n",
       "      <td>False</td>\n",
       "      <td>False</td>\n",
       "      <td>False</td>\n",
       "      <td>False</td>\n",
       "      <td>False</td>\n",
       "      <td>...</td>\n",
       "      <td>True</td>\n",
       "      <td>False</td>\n",
       "      <td>False</td>\n",
       "      <td>False</td>\n",
       "      <td>False</td>\n",
       "      <td>True</td>\n",
       "      <td>False</td>\n",
       "      <td>False</td>\n",
       "      <td>False</td>\n",
       "      <td>False</td>\n",
       "    </tr>\n",
       "    <tr>\n",
       "      <th>2</th>\n",
       "      <td>subway-wilson-4</td>\n",
       "      <td>3.5</td>\n",
       "      <td>3</td>\n",
       "      <td>27896</td>\n",
       "      <td>$</td>\n",
       "      <td>True</td>\n",
       "      <td>True</td>\n",
       "      <td>False</td>\n",
       "      <td>False</td>\n",
       "      <td>False</td>\n",
       "      <td>...</td>\n",
       "      <td>False</td>\n",
       "      <td>False</td>\n",
       "      <td>False</td>\n",
       "      <td>False</td>\n",
       "      <td>False</td>\n",
       "      <td>False</td>\n",
       "      <td>False</td>\n",
       "      <td>False</td>\n",
       "      <td>False</td>\n",
       "      <td>False</td>\n",
       "    </tr>\n",
       "    <tr>\n",
       "      <th>3</th>\n",
       "      <td>trent-restaurant-pollocksville</td>\n",
       "      <td>5.0</td>\n",
       "      <td>5</td>\n",
       "      <td>28573</td>\n",
       "      <td>$$$</td>\n",
       "      <td>False</td>\n",
       "      <td>False</td>\n",
       "      <td>False</td>\n",
       "      <td>True</td>\n",
       "      <td>False</td>\n",
       "      <td>...</td>\n",
       "      <td>False</td>\n",
       "      <td>False</td>\n",
       "      <td>False</td>\n",
       "      <td>False</td>\n",
       "      <td>False</td>\n",
       "      <td>False</td>\n",
       "      <td>False</td>\n",
       "      <td>False</td>\n",
       "      <td>False</td>\n",
       "      <td>False</td>\n",
       "    </tr>\n",
       "    <tr>\n",
       "      <th>4</th>\n",
       "      <td>bailey-cafe-bailey-2</td>\n",
       "      <td>4.5</td>\n",
       "      <td>10</td>\n",
       "      <td>27807</td>\n",
       "      <td>$</td>\n",
       "      <td>False</td>\n",
       "      <td>False</td>\n",
       "      <td>False</td>\n",
       "      <td>True</td>\n",
       "      <td>False</td>\n",
       "      <td>...</td>\n",
       "      <td>False</td>\n",
       "      <td>False</td>\n",
       "      <td>False</td>\n",
       "      <td>False</td>\n",
       "      <td>False</td>\n",
       "      <td>False</td>\n",
       "      <td>False</td>\n",
       "      <td>False</td>\n",
       "      <td>False</td>\n",
       "      <td>False</td>\n",
       "    </tr>\n",
       "  </tbody>\n",
       "</table>\n",
       "<p>5 rows × 25 columns</p>\n",
       "</div>"
      ],
      "text/plain": [
       "                                              id  rating  review_count  \\\n",
       "0  luciano-pizzeria-ristorante-northwest-raleigh     5.0             2   \n",
       "1         olive-garden-italian-restaurant-wilson     3.0            16   \n",
       "2                                subway-wilson-4     3.5             3   \n",
       "3                 trent-restaurant-pollocksville     5.0             5   \n",
       "4                           bailey-cafe-bailey-2     4.5            10   \n",
       "\n",
       "   zip_code price  hotdogs  sandwiches  pizza  tradamerican  burgers  ...  \\\n",
       "0     27612     $    False       False  False         False    False  ...   \n",
       "1     27893    $$    False       False  False         False    False  ...   \n",
       "2     27896     $     True        True  False         False    False  ...   \n",
       "3     28573   $$$    False       False  False          True    False  ...   \n",
       "4     27807     $    False       False  False          True    False  ...   \n",
       "\n",
       "   italian  newamerican  chicken_wings  delis   bars  salad  seafood    bbq  \\\n",
       "0     True        False          False  False  False  False    False  False   \n",
       "1     True        False          False  False  False   True    False  False   \n",
       "2    False        False          False  False  False  False    False  False   \n",
       "3    False        False          False  False  False  False    False  False   \n",
       "4    False        False          False  False  False  False    False  False   \n",
       "\n",
       "   bakeries  sushi  \n",
       "0     False  False  \n",
       "1     False  False  \n",
       "2     False  False  \n",
       "3     False  False  \n",
       "4     False  False  \n",
       "\n",
       "[5 rows x 25 columns]"
      ]
     },
     "execution_count": 67,
     "metadata": {},
     "output_type": "execute_result"
    }
   ],
   "source": [
    "# load dataset\n",
    "df = pd.read_csv(\"data/yelp.csv\")\n",
    "\n",
    "# drop rows with missing values\n",
    "df = df.dropna()\n",
    "\n",
    "# drop features that are not of interest\n",
    "df = df.drop(['is_closed', 'address1', 'latitude', 'longitude', 'phone', 'name'], axis=1)\n",
    "df = df.reset_index(drop=True)\n",
    "\n",
    "print(df.shape)\n",
    "df.head()\n"
   ]
  },
  {
   "cell_type": "code",
   "execution_count": 68,
   "metadata": {},
   "outputs": [],
   "source": [
    "# drop rest of columns we don't need\n",
    "cols = list(range(5, 25))\n",
    "df.drop(df.columns[cols],axis=1,inplace=True)"
   ]
  },
  {
   "cell_type": "code",
   "execution_count": 69,
   "metadata": {},
   "outputs": [
    {
     "data": {
      "text/html": [
       "<div>\n",
       "<style scoped>\n",
       "    .dataframe tbody tr th:only-of-type {\n",
       "        vertical-align: middle;\n",
       "    }\n",
       "\n",
       "    .dataframe tbody tr th {\n",
       "        vertical-align: top;\n",
       "    }\n",
       "\n",
       "    .dataframe thead th {\n",
       "        text-align: right;\n",
       "    }\n",
       "</style>\n",
       "<table border=\"1\" class=\"dataframe\">\n",
       "  <thead>\n",
       "    <tr style=\"text-align: right;\">\n",
       "      <th></th>\n",
       "      <th>id</th>\n",
       "      <th>rating</th>\n",
       "      <th>review_count</th>\n",
       "      <th>zip_code</th>\n",
       "      <th>price</th>\n",
       "    </tr>\n",
       "  </thead>\n",
       "  <tbody>\n",
       "    <tr>\n",
       "      <th>0</th>\n",
       "      <td>luciano-pizzeria-ristorante-northwest-raleigh</td>\n",
       "      <td>5.0</td>\n",
       "      <td>2</td>\n",
       "      <td>27612</td>\n",
       "      <td>$</td>\n",
       "    </tr>\n",
       "    <tr>\n",
       "      <th>1</th>\n",
       "      <td>olive-garden-italian-restaurant-wilson</td>\n",
       "      <td>3.0</td>\n",
       "      <td>16</td>\n",
       "      <td>27893</td>\n",
       "      <td>$$</td>\n",
       "    </tr>\n",
       "    <tr>\n",
       "      <th>2</th>\n",
       "      <td>subway-wilson-4</td>\n",
       "      <td>3.5</td>\n",
       "      <td>3</td>\n",
       "      <td>27896</td>\n",
       "      <td>$</td>\n",
       "    </tr>\n",
       "    <tr>\n",
       "      <th>3</th>\n",
       "      <td>trent-restaurant-pollocksville</td>\n",
       "      <td>5.0</td>\n",
       "      <td>5</td>\n",
       "      <td>28573</td>\n",
       "      <td>$$$</td>\n",
       "    </tr>\n",
       "    <tr>\n",
       "      <th>4</th>\n",
       "      <td>bailey-cafe-bailey-2</td>\n",
       "      <td>4.5</td>\n",
       "      <td>10</td>\n",
       "      <td>27807</td>\n",
       "      <td>$</td>\n",
       "    </tr>\n",
       "    <tr>\n",
       "      <th>...</th>\n",
       "      <td>...</td>\n",
       "      <td>...</td>\n",
       "      <td>...</td>\n",
       "      <td>...</td>\n",
       "      <td>...</td>\n",
       "    </tr>\n",
       "    <tr>\n",
       "      <th>2886</th>\n",
       "      <td>carter-finley-stadium-raleigh</td>\n",
       "      <td>3.5</td>\n",
       "      <td>23</td>\n",
       "      <td>27607</td>\n",
       "      <td>19198344000</td>\n",
       "    </tr>\n",
       "    <tr>\n",
       "      <th>2887</th>\n",
       "      <td>raleigh-little-theatre-raleigh</td>\n",
       "      <td>3.5</td>\n",
       "      <td>24</td>\n",
       "      <td>27607</td>\n",
       "      <td>19198213111</td>\n",
       "    </tr>\n",
       "    <tr>\n",
       "      <th>2888</th>\n",
       "      <td>sky-zone-trampoline-park-durham-durham</td>\n",
       "      <td>4.0</td>\n",
       "      <td>12</td>\n",
       "      <td>27701</td>\n",
       "      <td>19194250800</td>\n",
       "    </tr>\n",
       "    <tr>\n",
       "      <th>2889</th>\n",
       "      <td>highgrove-estate-fuquay-varina</td>\n",
       "      <td>3.5</td>\n",
       "      <td>4</td>\n",
       "      <td>27526</td>\n",
       "      <td>19195526154</td>\n",
       "    </tr>\n",
       "    <tr>\n",
       "      <th>2890</th>\n",
       "      <td>banfield-pet-hospital-raleigh-6</td>\n",
       "      <td>2.0</td>\n",
       "      <td>5</td>\n",
       "      <td>27612</td>\n",
       "      <td>19198473548</td>\n",
       "    </tr>\n",
       "  </tbody>\n",
       "</table>\n",
       "<p>2891 rows × 5 columns</p>\n",
       "</div>"
      ],
      "text/plain": [
       "                                                 id  rating  review_count  \\\n",
       "0     luciano-pizzeria-ristorante-northwest-raleigh     5.0             2   \n",
       "1            olive-garden-italian-restaurant-wilson     3.0            16   \n",
       "2                                   subway-wilson-4     3.5             3   \n",
       "3                    trent-restaurant-pollocksville     5.0             5   \n",
       "4                              bailey-cafe-bailey-2     4.5            10   \n",
       "...                                             ...     ...           ...   \n",
       "2886                  carter-finley-stadium-raleigh     3.5            23   \n",
       "2887                 raleigh-little-theatre-raleigh     3.5            24   \n",
       "2888         sky-zone-trampoline-park-durham-durham     4.0            12   \n",
       "2889                 highgrove-estate-fuquay-varina     3.5             4   \n",
       "2890                banfield-pet-hospital-raleigh-6     2.0             5   \n",
       "\n",
       "      zip_code        price  \n",
       "0        27612            $  \n",
       "1        27893           $$  \n",
       "2        27896            $  \n",
       "3        28573          $$$  \n",
       "4        27807            $  \n",
       "...        ...          ...  \n",
       "2886     27607  19198344000  \n",
       "2887     27607  19198213111  \n",
       "2888     27701  19194250800  \n",
       "2889     27526  19195526154  \n",
       "2890     27612  19198473548  \n",
       "\n",
       "[2891 rows x 5 columns]"
      ]
     },
     "execution_count": 69,
     "metadata": {},
     "output_type": "execute_result"
    }
   ],
   "source": [
    "df"
   ]
  },
  {
   "cell_type": "markdown",
   "metadata": {},
   "source": [
    "Convert $ signs in price column to numerical form (1-4). Also remove observations with no dollar signs in price column."
   ]
  },
  {
   "cell_type": "code",
   "execution_count": 70,
   "metadata": {},
   "outputs": [],
   "source": [
    "for row, item in enumerate(df['price']):\n",
    "    if item == '$':\n",
    "        df.at[row, 'price'] = 1.0\n",
    "    elif item == '$$':\n",
    "        df.at[row, 'price'] = 2.0\n",
    "    elif item == '$$$':\n",
    "        df.at[row, 'price'] = 3.0\n",
    "    elif item == '$$$$':\n",
    "        df.at[row, 'price'] = 4.0\n",
    "    else:\n",
    "        df.drop(index=row, inplace=True)"
   ]
  },
  {
   "cell_type": "code",
   "execution_count": 71,
   "metadata": {},
   "outputs": [
    {
     "data": {
      "text/html": [
       "<div>\n",
       "<style scoped>\n",
       "    .dataframe tbody tr th:only-of-type {\n",
       "        vertical-align: middle;\n",
       "    }\n",
       "\n",
       "    .dataframe tbody tr th {\n",
       "        vertical-align: top;\n",
       "    }\n",
       "\n",
       "    .dataframe thead th {\n",
       "        text-align: right;\n",
       "    }\n",
       "</style>\n",
       "<table border=\"1\" class=\"dataframe\">\n",
       "  <thead>\n",
       "    <tr style=\"text-align: right;\">\n",
       "      <th></th>\n",
       "      <th>id</th>\n",
       "      <th>rating</th>\n",
       "      <th>review_count</th>\n",
       "      <th>zip_code</th>\n",
       "      <th>price</th>\n",
       "    </tr>\n",
       "  </thead>\n",
       "  <tbody>\n",
       "    <tr>\n",
       "      <th>0</th>\n",
       "      <td>luciano-pizzeria-ristorante-northwest-raleigh</td>\n",
       "      <td>5.0</td>\n",
       "      <td>2</td>\n",
       "      <td>27612</td>\n",
       "      <td>1</td>\n",
       "    </tr>\n",
       "    <tr>\n",
       "      <th>1</th>\n",
       "      <td>olive-garden-italian-restaurant-wilson</td>\n",
       "      <td>3.0</td>\n",
       "      <td>16</td>\n",
       "      <td>27893</td>\n",
       "      <td>2</td>\n",
       "    </tr>\n",
       "    <tr>\n",
       "      <th>2</th>\n",
       "      <td>subway-wilson-4</td>\n",
       "      <td>3.5</td>\n",
       "      <td>3</td>\n",
       "      <td>27896</td>\n",
       "      <td>1</td>\n",
       "    </tr>\n",
       "    <tr>\n",
       "      <th>3</th>\n",
       "      <td>trent-restaurant-pollocksville</td>\n",
       "      <td>5.0</td>\n",
       "      <td>5</td>\n",
       "      <td>28573</td>\n",
       "      <td>3</td>\n",
       "    </tr>\n",
       "    <tr>\n",
       "      <th>4</th>\n",
       "      <td>bailey-cafe-bailey-2</td>\n",
       "      <td>4.5</td>\n",
       "      <td>10</td>\n",
       "      <td>27807</td>\n",
       "      <td>1</td>\n",
       "    </tr>\n",
       "  </tbody>\n",
       "</table>\n",
       "</div>"
      ],
      "text/plain": [
       "                                              id  rating  review_count  \\\n",
       "0  luciano-pizzeria-ristorante-northwest-raleigh     5.0             2   \n",
       "1         olive-garden-italian-restaurant-wilson     3.0            16   \n",
       "2                                subway-wilson-4     3.5             3   \n",
       "3                 trent-restaurant-pollocksville     5.0             5   \n",
       "4                           bailey-cafe-bailey-2     4.5            10   \n",
       "\n",
       "   zip_code price  \n",
       "0     27612     1  \n",
       "1     27893     2  \n",
       "2     27896     1  \n",
       "3     28573     3  \n",
       "4     27807     1  "
      ]
     },
     "execution_count": 71,
     "metadata": {},
     "output_type": "execute_result"
    }
   ],
   "source": [
    "df.head()"
   ]
  },
  {
   "cell_type": "code",
   "execution_count": 72,
   "metadata": {},
   "outputs": [
    {
     "name": "stdout",
     "output_type": "stream",
     "text": [
      "Number of observations in dataset after cleaning data: 2857\n"
     ]
    }
   ],
   "source": [
    "print(\"Number of observations in dataset after cleaning data:\", df.shape[0])"
   ]
  },
  {
   "cell_type": "code",
   "execution_count": 73,
   "metadata": {},
   "outputs": [
    {
     "name": "stdout",
     "output_type": "stream",
     "text": [
      "Number of features in dataset after cleaning data: 3\n"
     ]
    }
   ],
   "source": [
    "print(\"Number of features in dataset after cleaning data:\", df.shape[1]-2)"
   ]
  },
  {
   "cell_type": "markdown",
   "metadata": {},
   "source": [
    "# Data Visualization"
   ]
  },
  {
   "cell_type": "code",
   "execution_count": 74,
   "metadata": {},
   "outputs": [
    {
     "data": {
      "text/plain": [
       "Text(0, 0.5, 'frequency')"
      ]
     },
     "execution_count": 74,
     "metadata": {},
     "output_type": "execute_result"
    },
    {
     "data": {
      "image/png": "[encoded data removed]",
      "text/plain": [
       "<Figure size 432x288 with 1 Axes>"
      ]
     },
     "metadata": {},
     "output_type": "display_data"
    }
   ],
   "source": [
    "plot_ratings = df.hist(column='rating', bins=8)\n",
    "plt.title('Yelp Ratings')\n",
    "plt.xlabel('rating')\n",
    "plt.ylabel('frequency')"
   ]
  },
  {
   "cell_type": "markdown",
   "metadata": {},
   "source": [
    "The histogram above shows that the majority of restaurant ratings on Yelp fall between the 3.5-4.5 range."
   ]
  },
  {
   "cell_type": "code",
   "execution_count": 75,
   "metadata": {},
   "outputs": [
    {
     "data": {
      "text/plain": [
       "Text(0, 0.5, 'frequency')"
      ]
     },
     "execution_count": 75,
     "metadata": {},
     "output_type": "execute_result"
    },
    {
     "data": {
      "image/png": "[encoded data removed]",
      "text/plain": [
       "<Figure size 432x288 with 1 Axes>"
      ]
     },
     "metadata": {},
     "output_type": "display_data"
    }
   ],
   "source": [
    "plot_reviews = df.hist(column='review_count', bins=15)\n",
    "plt.title('Yelp Review Counts')\n",
    "plt.xlabel('review')\n",
    "plt.ylabel('frequency')"
   ]
  },
  {
   "cell_type": "markdown",
   "metadata": {},
   "source": [
    "The histogram above shows that most restaurants have between 0-125 reviews. A small number of restaurant's have more than 250 reviews."
   ]
  },
  {
   "cell_type": "code",
   "execution_count": 76,
   "metadata": {},
   "outputs": [
    {
     "data": {
      "image/png": "[encoded data removed]",
      "text/plain": [
       "<Figure size 432x288 with 1 Axes>"
      ]
     },
     "metadata": {},
     "output_type": "display_data"
    }
   ],
   "source": [
    "p = sns.countplot(data=df, x = 'price')"
   ]
  },
  {
   "cell_type": "markdown",
   "metadata": {},
   "source": [
    "The bar plot above shows that most restaurants have or \\$$ or \\$ as their average price (2 and 1 numerically)."
   ]
  },
  {
   "cell_type": "markdown",
   "metadata": {},
   "source": [
    "# Data Analysis & Results"
   ]
  },
  {
   "cell_type": "markdown",
   "metadata": {},
   "source": [
    "### Simple linear regression with one variable (review count) to predict restaurant Yelp rating."
   ]
  },
  {
   "cell_type": "code",
   "execution_count": 83,
   "metadata": {},
   "outputs": [],
   "source": [
    "# training set\n",
    "X = df['review_count']\n",
    "y = df['rating']"
   ]
  },
  {
   "cell_type": "code",
   "execution_count": 84,
   "metadata": {},
   "outputs": [
    {
     "data": {
      "text/html": [
       "<table class=\"simpletable\">\n",
       "<caption>OLS Regression Results</caption>\n",
       "<tr>\n",
       "  <th>Dep. Variable:</th>         <td>rating</td>      <th>  R-squared (uncentered):</th>      <td>   0.299</td> \n",
       "</tr>\n",
       "<tr>\n",
       "  <th>Model:</th>                   <td>OLS</td>       <th>  Adj. R-squared (uncentered):</th> <td>   0.299</td> \n",
       "</tr>\n",
       "<tr>\n",
       "  <th>Method:</th>             <td>Least Squares</td>  <th>  F-statistic:       </th>          <td>   1217.</td> \n",
       "</tr>\n",
       "<tr>\n",
       "  <th>Date:</th>             <td>Wed, 10 Jun 2020</td> <th>  Prob (F-statistic):</th>          <td>1.86e-222</td>\n",
       "</tr>\n",
       "<tr>\n",
       "  <th>Time:</th>                 <td>23:23:35</td>     <th>  Log-Likelihood:    </th>          <td> -7248.1</td> \n",
       "</tr>\n",
       "<tr>\n",
       "  <th>No. Observations:</th>      <td>  2857</td>      <th>  AIC:               </th>          <td>1.450e+04</td>\n",
       "</tr>\n",
       "<tr>\n",
       "  <th>Df Residuals:</th>          <td>  2856</td>      <th>  BIC:               </th>          <td>1.450e+04</td>\n",
       "</tr>\n",
       "<tr>\n",
       "  <th>Df Model:</th>              <td>     1</td>      <th>                     </th>              <td> </td>    \n",
       "</tr>\n",
       "<tr>\n",
       "  <th>Covariance Type:</th>      <td>nonrobust</td>    <th>                     </th>              <td> </td>    \n",
       "</tr>\n",
       "</table>\n",
       "<table class=\"simpletable\">\n",
       "<tr>\n",
       "        <td></td>          <th>coef</th>     <th>std err</th>      <th>t</th>      <th>P>|t|</th>  <th>[0.025</th>    <th>0.975]</th>  \n",
       "</tr>\n",
       "<tr>\n",
       "  <th>review_count</th> <td>    0.0188</td> <td>    0.001</td> <td>   34.889</td> <td> 0.000</td> <td>    0.018</td> <td>    0.020</td>\n",
       "</tr>\n",
       "</table>\n",
       "<table class=\"simpletable\">\n",
       "<tr>\n",
       "  <th>Omnibus:</th>       <td>2961.321</td> <th>  Durbin-Watson:     </th>  <td>   0.575</td> \n",
       "</tr>\n",
       "<tr>\n",
       "  <th>Prob(Omnibus):</th>  <td> 0.000</td>  <th>  Jarque-Bera (JB):  </th> <td>394296.908</td>\n",
       "</tr>\n",
       "<tr>\n",
       "  <th>Skew:</th>           <td>-4.801</td>  <th>  Prob(JB):          </th>  <td>    0.00</td> \n",
       "</tr>\n",
       "<tr>\n",
       "  <th>Kurtosis:</th>       <td>59.745</td>  <th>  Cond. No.          </th>  <td>    1.00</td> \n",
       "</tr>\n",
       "</table><br/><br/>Warnings:<br/>[1] Standard Errors assume that the covariance matrix of the errors is correctly specified."
      ],
      "text/plain": [
       "<class 'statsmodels.iolib.summary.Summary'>\n",
       "\"\"\"\n",
       "                                 OLS Regression Results                                \n",
       "=======================================================================================\n",
       "Dep. Variable:                 rating   R-squared (uncentered):                   0.299\n",
       "Model:                            OLS   Adj. R-squared (uncentered):              0.299\n",
       "Method:                 Least Squares   F-statistic:                              1217.\n",
       "Date:                Wed, 10 Jun 2020   Prob (F-statistic):                   1.86e-222\n",
       "Time:                        23:23:35   Log-Likelihood:                         -7248.1\n",
       "No. Observations:                2857   AIC:                                  1.450e+04\n",
       "Df Residuals:                    2856   BIC:                                  1.450e+04\n",
       "Df Model:                           1                                                  \n",
       "Covariance Type:            nonrobust                                                  \n",
       "================================================================================\n",
       "                   coef    std err          t      P>|t|      [0.025      0.975]\n",
       "--------------------------------------------------------------------------------\n",
       "review_count     0.0188      0.001     34.889      0.000       0.018       0.020\n",
       "==============================================================================\n",
       "Omnibus:                     2961.321   Durbin-Watson:                   0.575\n",
       "Prob(Omnibus):                  0.000   Jarque-Bera (JB):           394296.908\n",
       "Skew:                          -4.801   Prob(JB):                         0.00\n",
       "Kurtosis:                      59.745   Cond. No.                         1.00\n",
       "==============================================================================\n",
       "\n",
       "Warnings:\n",
       "[1] Standard Errors assume that the covariance matrix of the errors is correctly specified.\n",
       "\"\"\""
      ]
     },
     "execution_count": 84,
     "metadata": {},
     "output_type": "execute_result"
    }
   ],
   "source": [
    "model_review = sm.OLS(y, X).fit()\n",
    "predictions = model_review.predict(X) # make the predictions by the model\n",
    "# Print out the statistics\n",
    "model_review.summary()"
   ]
  },
  {
   "cell_type": "markdown",
   "metadata": {},
   "source": [
    "The coefficient of correlation **R** is 0.54, which means there is a positive correlation between a restaurant's review count and rating."
   ]
  },
  {
   "cell_type": "markdown",
   "metadata": {},
   "source": [
    "### Simple linear regression with one variable (price) to predict restaurant Yelp rating."
   ]
  },
  {
   "cell_type": "code",
   "execution_count": 88,
   "metadata": {},
   "outputs": [],
   "source": [
    "# training set\n",
    "X = df['price']\n",
    "y = df['rating']"
   ]
  },
  {
   "cell_type": "code",
   "execution_count": 89,
   "metadata": {},
   "outputs": [
    {
     "data": {
      "text/html": [
       "<table class=\"simpletable\">\n",
       "<caption>OLS Regression Results</caption>\n",
       "<tr>\n",
       "  <th>Dep. Variable:</th>         <td>rating</td>      <th>  R-squared (uncentered):</th>      <td>   0.852</td> \n",
       "</tr>\n",
       "<tr>\n",
       "  <th>Model:</th>                   <td>OLS</td>       <th>  Adj. R-squared (uncentered):</th> <td>   0.852</td> \n",
       "</tr>\n",
       "<tr>\n",
       "  <th>Method:</th>             <td>Least Squares</td>  <th>  F-statistic:       </th>          <td>1.646e+04</td>\n",
       "</tr>\n",
       "<tr>\n",
       "  <th>Date:</th>             <td>Wed, 10 Jun 2020</td> <th>  Prob (F-statistic):</th>           <td>  0.00</td>  \n",
       "</tr>\n",
       "<tr>\n",
       "  <th>Time:</th>                 <td>23:23:56</td>     <th>  Log-Likelihood:    </th>          <td> -5025.0</td> \n",
       "</tr>\n",
       "<tr>\n",
       "  <th>No. Observations:</th>      <td>  2857</td>      <th>  AIC:               </th>          <td>1.005e+04</td>\n",
       "</tr>\n",
       "<tr>\n",
       "  <th>Df Residuals:</th>          <td>  2856</td>      <th>  BIC:               </th>          <td>1.006e+04</td>\n",
       "</tr>\n",
       "<tr>\n",
       "  <th>Df Model:</th>              <td>     1</td>      <th>                     </th>              <td> </td>    \n",
       "</tr>\n",
       "<tr>\n",
       "  <th>Covariance Type:</th>      <td>nonrobust</td>    <th>                     </th>              <td> </td>    \n",
       "</tr>\n",
       "</table>\n",
       "<table class=\"simpletable\">\n",
       "<tr>\n",
       "    <td></td>       <th>coef</th>     <th>std err</th>      <th>t</th>      <th>P>|t|</th>  <th>[0.025</th>    <th>0.975]</th>  \n",
       "</tr>\n",
       "<tr>\n",
       "  <th>price</th> <td>    1.9813</td> <td>    0.015</td> <td>  128.278</td> <td> 0.000</td> <td>    1.951</td> <td>    2.012</td>\n",
       "</tr>\n",
       "</table>\n",
       "<table class=\"simpletable\">\n",
       "<tr>\n",
       "  <th>Omnibus:</th>       <td>88.652</td> <th>  Durbin-Watson:     </th> <td>   1.771</td>\n",
       "</tr>\n",
       "<tr>\n",
       "  <th>Prob(Omnibus):</th> <td> 0.000</td> <th>  Jarque-Bera (JB):  </th> <td> 102.748</td>\n",
       "</tr>\n",
       "<tr>\n",
       "  <th>Skew:</th>          <td>-0.393</td> <th>  Prob(JB):          </th> <td>4.88e-23</td>\n",
       "</tr>\n",
       "<tr>\n",
       "  <th>Kurtosis:</th>      <td> 3.496</td> <th>  Cond. No.          </th> <td>    1.00</td>\n",
       "</tr>\n",
       "</table><br/><br/>Warnings:<br/>[1] Standard Errors assume that the covariance matrix of the errors is correctly specified."
      ],
      "text/plain": [
       "<class 'statsmodels.iolib.summary.Summary'>\n",
       "\"\"\"\n",
       "                                 OLS Regression Results                                \n",
       "=======================================================================================\n",
       "Dep. Variable:                 rating   R-squared (uncentered):                   0.852\n",
       "Model:                            OLS   Adj. R-squared (uncentered):              0.852\n",
       "Method:                 Least Squares   F-statistic:                          1.646e+04\n",
       "Date:                Wed, 10 Jun 2020   Prob (F-statistic):                        0.00\n",
       "Time:                        23:23:56   Log-Likelihood:                         -5025.0\n",
       "No. Observations:                2857   AIC:                                  1.005e+04\n",
       "Df Residuals:                    2856   BIC:                                  1.006e+04\n",
       "Df Model:                           1                                                  \n",
       "Covariance Type:            nonrobust                                                  \n",
       "==============================================================================\n",
       "                 coef    std err          t      P>|t|      [0.025      0.975]\n",
       "------------------------------------------------------------------------------\n",
       "price          1.9813      0.015    128.278      0.000       1.951       2.012\n",
       "==============================================================================\n",
       "Omnibus:                       88.652   Durbin-Watson:                   1.771\n",
       "Prob(Omnibus):                  0.000   Jarque-Bera (JB):              102.748\n",
       "Skew:                          -0.393   Prob(JB):                     4.88e-23\n",
       "Kurtosis:                       3.496   Cond. No.                         1.00\n",
       "==============================================================================\n",
       "\n",
       "Warnings:\n",
       "[1] Standard Errors assume that the covariance matrix of the errors is correctly specified.\n",
       "\"\"\""
      ]
     },
     "execution_count": 89,
     "metadata": {},
     "output_type": "execute_result"
    }
   ],
   "source": [
    "model_price = sm.OLS(y, X.astype(float)).fit()\n",
    "predictions = model_price.predict(X) # make the predictions by the model\n",
    "# Print out the statistics\n",
    "model_price.summary()"
   ]
  },
  {
   "cell_type": "markdown",
   "metadata": {},
   "source": [
    "The coefficient of correlation **R** is 0.92, which means there is a strong positive correlation between a restaurant's average price and rating."
   ]
  },
  {
   "cell_type": "markdown",
   "metadata": {},
   "source": [
    "### Multiple linear regression with three variable (review count, price, zip code) to predict restaurant Yelp rating."
   ]
  },
  {
   "cell_type": "code",
   "execution_count": 100,
   "metadata": {},
   "outputs": [],
   "source": [
    "# training set\n",
    "X = df[['review_count', 'zip_code', 'price']][0:2286]\n",
    "y = df['rating'][0:2286]\n",
    "\n",
    "# test set\n",
    "X_test = df[['review_count', 'zip_code', 'price']][2286:]\n",
    "y_test = df['rating'][2286:]"
   ]
  },
  {
   "cell_type": "code",
   "execution_count": 101,
   "metadata": {},
   "outputs": [
    {
     "data": {
      "text/html": [
       "<table class=\"simpletable\">\n",
       "<caption>OLS Regression Results</caption>\n",
       "<tr>\n",
       "  <th>Dep. Variable:</th>         <td>rating</td>      <th>  R-squared (uncentered):</th>      <td>   0.959</td> \n",
       "</tr>\n",
       "<tr>\n",
       "  <th>Model:</th>                   <td>OLS</td>       <th>  Adj. R-squared (uncentered):</th> <td>   0.959</td> \n",
       "</tr>\n",
       "<tr>\n",
       "  <th>Method:</th>             <td>Least Squares</td>  <th>  F-statistic:       </th>          <td>1.765e+04</td>\n",
       "</tr>\n",
       "<tr>\n",
       "  <th>Date:</th>             <td>Wed, 10 Jun 2020</td> <th>  Prob (F-statistic):</th>           <td>  0.00</td>  \n",
       "</tr>\n",
       "<tr>\n",
       "  <th>Time:</th>                 <td>23:36:57</td>     <th>  Log-Likelihood:    </th>          <td> -2566.2</td> \n",
       "</tr>\n",
       "<tr>\n",
       "  <th>No. Observations:</th>      <td>  2286</td>      <th>  AIC:               </th>          <td>   5138.</td> \n",
       "</tr>\n",
       "<tr>\n",
       "  <th>Df Residuals:</th>          <td>  2283</td>      <th>  BIC:               </th>          <td>   5156.</td> \n",
       "</tr>\n",
       "<tr>\n",
       "  <th>Df Model:</th>              <td>     3</td>      <th>                     </th>              <td> </td>    \n",
       "</tr>\n",
       "<tr>\n",
       "  <th>Covariance Type:</th>      <td>nonrobust</td>    <th>                     </th>              <td> </td>    \n",
       "</tr>\n",
       "</table>\n",
       "<table class=\"simpletable\">\n",
       "<tr>\n",
       "        <td></td>          <th>coef</th>     <th>std err</th>      <th>t</th>      <th>P>|t|</th>  <th>[0.025</th>    <th>0.975]</th>  \n",
       "</tr>\n",
       "<tr>\n",
       "  <th>review_count</th> <td>    0.0014</td> <td>    0.000</td> <td>    7.781</td> <td> 0.000</td> <td>    0.001</td> <td>    0.002</td>\n",
       "</tr>\n",
       "<tr>\n",
       "  <th>zip_code</th>     <td>    0.0001</td> <td>  1.6e-06</td> <td>   74.955</td> <td> 0.000</td> <td>    0.000</td> <td>    0.000</td>\n",
       "</tr>\n",
       "<tr>\n",
       "  <th>price</th>        <td>    0.1178</td> <td>    0.026</td> <td>    4.449</td> <td> 0.000</td> <td>    0.066</td> <td>    0.170</td>\n",
       "</tr>\n",
       "</table>\n",
       "<table class=\"simpletable\">\n",
       "<tr>\n",
       "  <th>Omnibus:</th>       <td>61.129</td> <th>  Durbin-Watson:     </th> <td>   1.924</td>\n",
       "</tr>\n",
       "<tr>\n",
       "  <th>Prob(Omnibus):</th> <td> 0.000</td> <th>  Jarque-Bera (JB):  </th> <td>  65.499</td>\n",
       "</tr>\n",
       "<tr>\n",
       "  <th>Skew:</th>          <td>-0.402</td> <th>  Prob(JB):          </th> <td>5.99e-15</td>\n",
       "</tr>\n",
       "<tr>\n",
       "  <th>Kurtosis:</th>      <td> 3.203</td> <th>  Cond. No.          </th> <td>4.69e+04</td>\n",
       "</tr>\n",
       "</table><br/><br/>Warnings:<br/>[1] Standard Errors assume that the covariance matrix of the errors is correctly specified.<br/>[2] The condition number is large, 4.69e+04. This might indicate that there are<br/>strong multicollinearity or other numerical problems."
      ],
      "text/plain": [
       "<class 'statsmodels.iolib.summary.Summary'>\n",
       "\"\"\"\n",
       "                                 OLS Regression Results                                \n",
       "=======================================================================================\n",
       "Dep. Variable:                 rating   R-squared (uncentered):                   0.959\n",
       "Model:                            OLS   Adj. R-squared (uncentered):              0.959\n",
       "Method:                 Least Squares   F-statistic:                          1.765e+04\n",
       "Date:                Wed, 10 Jun 2020   Prob (F-statistic):                        0.00\n",
       "Time:                        23:36:57   Log-Likelihood:                         -2566.2\n",
       "No. Observations:                2286   AIC:                                      5138.\n",
       "Df Residuals:                    2283   BIC:                                      5156.\n",
       "Df Model:                           3                                                  \n",
       "Covariance Type:            nonrobust                                                  \n",
       "================================================================================\n",
       "                   coef    std err          t      P>|t|      [0.025      0.975]\n",
       "--------------------------------------------------------------------------------\n",
       "review_count     0.0014      0.000      7.781      0.000       0.001       0.002\n",
       "zip_code         0.0001    1.6e-06     74.955      0.000       0.000       0.000\n",
       "price            0.1178      0.026      4.449      0.000       0.066       0.170\n",
       "==============================================================================\n",
       "Omnibus:                       61.129   Durbin-Watson:                   1.924\n",
       "Prob(Omnibus):                  0.000   Jarque-Bera (JB):               65.499\n",
       "Skew:                          -0.402   Prob(JB):                     5.99e-15\n",
       "Kurtosis:                       3.203   Cond. No.                     4.69e+04\n",
       "==============================================================================\n",
       "\n",
       "Warnings:\n",
       "[1] Standard Errors assume that the covariance matrix of the errors is correctly specified.\n",
       "[2] The condition number is large, 4.69e+04. This might indicate that there are\n",
       "strong multicollinearity or other numerical problems.\n",
       "\"\"\""
      ]
     },
     "execution_count": 101,
     "metadata": {},
     "output_type": "execute_result"
    }
   ],
   "source": [
    "\n",
    "model_multiple = sm.OLS(y, X.astype(float)).fit()\n",
    "predictions = model_multiple.predict(X)\n",
    "model_multiple.summary()"
   ]
  },
  {
   "cell_type": "markdown",
   "metadata": {},
   "source": [
    "The coefficient of correlation **R** is 0.979, which means there is a very strong positive correlation between the three features: **review count**, **zip code**, **price** and a restaurant's rating."
   ]
  },
  {
   "cell_type": "markdown",
   "metadata": {},
   "source": [
    "## Test the model with test set"
   ]
  },
  {
   "cell_type": "code",
   "execution_count": 115,
   "metadata": {},
   "outputs": [],
   "source": [
    "predictions_test = model_multiple.predict(X_test)"
   ]
  },
  {
   "cell_type": "code",
   "execution_count": 116,
   "metadata": {},
   "outputs": [],
   "source": [
    "# this function compares predictions and labels and returns the accuracy of model\n",
    "def check_accuracy(predictions, labels):\n",
    "    num_accurate = 0\n",
    "    for pred, label in zip(predictions, labels):\n",
    "        if round(pred*2)/2 == label:\n",
    "            num_accurate += 1\n",
    "            \n",
    "    return num_accurate/len(predictions)"
   ]
  },
  {
   "cell_type": "markdown",
   "metadata": {},
   "source": [
    "Get accuracy of model on test set"
   ]
  },
  {
   "cell_type": "code",
   "execution_count": 117,
   "metadata": {},
   "outputs": [
    {
     "name": "stdout",
     "output_type": "stream",
     "text": [
      "0.29246935201401053\n"
     ]
    }
   ],
   "source": [
    "accuracy = check_accuracy(predictions_test, y_test)\n",
    "print(accuracy)"
   ]
  },
  {
   "cell_type": "markdown",
   "metadata": {},
   "source": [
    "**Accuracy of model on test set is 30%** This means we cannot accurately predict a restaurant's Yelp rating based on review counts, zip code, and average price."
   ]
  },
  {
   "cell_type": "markdown",
   "metadata": {},
   "source": [
    "# Ethics & Privacy"
   ]
  },
  {
   "cell_type": "markdown",
   "metadata": {},
   "source": [
    "We should consider that restaurants may be negatively affected by this analysis. The predicted score by the model for a given restauarant does not necessarily reflect its actual Yelp rating, or whether or not it is a good/bad restaurant."
   ]
  },
  {
   "cell_type": "markdown",
   "metadata": {},
   "source": [
    "# Conclusion & Discussion"
   ]
  },
  {
   "cell_type": "markdown",
   "metadata": {},
   "source": [
    "The question we are trying to answer is whether or not a restaurant’s review count, zip code, and the price could be used to predict its Yelp scores. From the collection of data sets and data analysis, it was proven that these variables could not be used to predict the Yelp score, at least with simple regression. The accuracy on the test set was 30%, which means that we cannot predict the restaurant’s rating.\n",
    "\n",
    "The regression model that was used, however, did give strong correlation values. Between review count and Yelp score, the correlation value was 0.54 which could be assumed to have some correlation, but for the price, a correlation of 0.92, nearly a perfectly positive correlation was found. However, we know that correlation is not causation, and the test set was used to figure out if the price, zip code, and a restaurant’s review count could be used to predict Yelp reviews. So overall, the hypothesis was proven wrong."
   ]
  },
  {
   "cell_type": "code",
   "execution_count": null,
   "metadata": {},
   "outputs": [],
   "source": []
  }
 ],
 "metadata": {
  "kernelspec": {
   "display_name": "Python 3",
   "language": "python",
   "name": "python3"
  },
  "language_info": {
   "codemirror_mode": {
    "name": "ipython",
    "version": 3
   },
   "file_extension": ".py",
   "mimetype": "text/x-python",
   "name": "python",
   "nbconvert_exporter": "python",
   "pygments_lexer": "ipython3",
   "version": "3.8.2"
  }
 },
 "nbformat": 4,
 "nbformat_minor": 2
}
